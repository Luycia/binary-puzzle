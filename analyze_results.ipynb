{
 "cells": [
  {
   "cell_type": "code",
   "execution_count": 1,
   "metadata": {},
   "outputs": [],
   "source": [
    "import pandas as pd\n",
    "import webpuzzle\n",
    "import time\n",
    "\n",
    "from itertools import product\n",
    "from puzzle import BinaryPuzzle"
   ]
  },
  {
   "cell_type": "code",
   "execution_count": 2,
   "metadata": {},
   "outputs": [],
   "source": [
    "N_PUZZLES = 5\n",
    "PUZZLE_SIZES = [6, 8, 10, 12, 14]\n",
    "PUZZLE_DIFFICULTIES = list(webpuzzle.Difficulty)"
   ]
  },
  {
   "cell_type": "code",
   "execution_count": 9,
   "metadata": {},
   "outputs": [],
   "source": [
    "def analyze_puzzles(n_puzzles=N_PUZZLES, puzzle_sizes=PUZZLE_SIZES, puzzle_difficulties=PUZZLE_DIFFICULTIES, outpath='puzzles'):\n",
    "    df_result = []\n",
    "    for size, difficulty in product(puzzle_sizes, puzzle_difficulties):\n",
    "        for idx in range(n_puzzles):\n",
    "            input_puzzle = webpuzzle.get(idx=idx, size=size, difficulty=difficulty)\n",
    "            puzzle = BinaryPuzzle(input_puzzle)\n",
    "            if outpath:\n",
    "                puzzle.to_csv(\n",
    "                    f'{outpath}/{size}x{size}/{difficulty.name.lower()}/{idx+1}/puzzle.csv')\n",
    "\n",
    "            start_time = time.perf_counter()\n",
    "            solutions = puzzle.solve()\n",
    "            run_time = time.perf_counter() - start_time\n",
    "\n",
    "            if len(solutions) == 0:\n",
    "                df_result.append(pd.Series({'size': size, 'difficulty': difficulty.name.lower(), 'idx': idx+1,\n",
    "                               'puzzle': input_puzzle, 'solution_counts': 0, 'solutions': None,\n",
    "                               'solution_validity': False, 'run_time': run_time}))\n",
    "            else:\n",
    "                for i, solution in enumerate(solutions):\n",
    "                    df_result.append(pd.Series({'size': size, 'difficulty': difficulty.name.lower(), 'idx': idx+1,\n",
    "                                                'puzzle': input_puzzle, 'solution_counts': len(solutions),\n",
    "                                                'solution': solution.grid, 'solution_validity': solution.check(),\n",
    "                                                'run_time': run_time}))\n",
    "                    \n",
    "                    solution.to_csv(\n",
    "                        f'puzzles/{size}x{size}/{difficulty.name.lower()}/{idx+1}/solution{i+1}.csv')\n",
    "                    \n",
    "    return pd.DataFrame(df_result)\n",
    "\n",
    "\n",
    "df = analyze_puzzles()"
   ]
  },
  {
   "cell_type": "code",
   "execution_count": 10,
   "metadata": {},
   "outputs": [
    {
     "data": {
      "text/html": [
       "<div>\n",
       "<style scoped>\n",
       "    .dataframe tbody tr th:only-of-type {\n",
       "        vertical-align: middle;\n",
       "    }\n",
       "\n",
       "    .dataframe tbody tr th {\n",
       "        vertical-align: top;\n",
       "    }\n",
       "\n",
       "    .dataframe thead th {\n",
       "        text-align: right;\n",
       "    }\n",
       "</style>\n",
       "<table border=\"1\" class=\"dataframe\">\n",
       "  <thead>\n",
       "    <tr style=\"text-align: right;\">\n",
       "      <th></th>\n",
       "      <th>size</th>\n",
       "      <th>difficulty</th>\n",
       "      <th>idx</th>\n",
       "      <th>puzzle</th>\n",
       "      <th>solution_counts</th>\n",
       "      <th>solution</th>\n",
       "      <th>solution_validity</th>\n",
       "      <th>run_time</th>\n",
       "    </tr>\n",
       "  </thead>\n",
       "  <tbody>\n",
       "    <tr>\n",
       "      <th>0</th>\n",
       "      <td>6</td>\n",
       "      <td>easy</td>\n",
       "      <td>1</td>\n",
       "      <td>[[1, -1, -1, 0, -1, -1], [-1, -1, 0, 0, -1, 1]...</td>\n",
       "      <td>1</td>\n",
       "      <td>[[1, 0, 1, 0, 1, 0], [0, 1, 0, 0, 1, 1], [1, 0...</td>\n",
       "      <td>True</td>\n",
       "      <td>0.040002</td>\n",
       "    </tr>\n",
       "    <tr>\n",
       "      <th>1</th>\n",
       "      <td>6</td>\n",
       "      <td>easy</td>\n",
       "      <td>2</td>\n",
       "      <td>[[-1, -1, 0, -1, -1, 1], [1, -1, 0, 0, -1, -1]...</td>\n",
       "      <td>1</td>\n",
       "      <td>[[1, 0, 0, 1, 0, 1], [1, 1, 0, 0, 1, 0], [0, 1...</td>\n",
       "      <td>True</td>\n",
       "      <td>0.049248</td>\n",
       "    </tr>\n",
       "    <tr>\n",
       "      <th>2</th>\n",
       "      <td>6</td>\n",
       "      <td>easy</td>\n",
       "      <td>3</td>\n",
       "      <td>[[-1, 0, -1, -1, -1, -1], [1, -1, -1, 0, 0, -1...</td>\n",
       "      <td>1</td>\n",
       "      <td>[[1, 0, 0, 1, 1, 0], [1, 0, 1, 0, 0, 1], [0, 1...</td>\n",
       "      <td>True</td>\n",
       "      <td>0.049257</td>\n",
       "    </tr>\n",
       "    <tr>\n",
       "      <th>3</th>\n",
       "      <td>6</td>\n",
       "      <td>easy</td>\n",
       "      <td>4</td>\n",
       "      <td>[[1, -1, 1, 1, -1, 0], [-1, 0, -1, -1, -1, -1]...</td>\n",
       "      <td>1</td>\n",
       "      <td>[[1, 0, 1, 1, 0, 0], [0, 0, 1, 1, 0, 1], [1, 1...</td>\n",
       "      <td>True</td>\n",
       "      <td>0.041666</td>\n",
       "    </tr>\n",
       "    <tr>\n",
       "      <th>4</th>\n",
       "      <td>6</td>\n",
       "      <td>easy</td>\n",
       "      <td>5</td>\n",
       "      <td>[[0, 0, -1, -1, 1, 1], [0, -1, -1, -1, -1, 1],...</td>\n",
       "      <td>1</td>\n",
       "      <td>[[0, 0, 1, 0, 1, 1], [0, 1, 0, 1, 0, 1], [1, 0...</td>\n",
       "      <td>True</td>\n",
       "      <td>0.050843</td>\n",
       "    </tr>\n",
       "    <tr>\n",
       "      <th>...</th>\n",
       "      <td>...</td>\n",
       "      <td>...</td>\n",
       "      <td>...</td>\n",
       "      <td>...</td>\n",
       "      <td>...</td>\n",
       "      <td>...</td>\n",
       "      <td>...</td>\n",
       "      <td>...</td>\n",
       "    </tr>\n",
       "    <tr>\n",
       "      <th>95</th>\n",
       "      <td>14</td>\n",
       "      <td>very_hard</td>\n",
       "      <td>1</td>\n",
       "      <td>[[-1, -1, -1, -1, 1, 0, -1, -1, -1, -1, -1, -1...</td>\n",
       "      <td>1</td>\n",
       "      <td>[[0, 1, 0, 1, 1, 0, 1, 0, 1, 0, 1, 0, 0, 1], [...</td>\n",
       "      <td>True</td>\n",
       "      <td>0.093373</td>\n",
       "    </tr>\n",
       "    <tr>\n",
       "      <th>96</th>\n",
       "      <td>14</td>\n",
       "      <td>very_hard</td>\n",
       "      <td>2</td>\n",
       "      <td>[[-1, 0, -1, 1, -1, -1, 1, -1, -1, -1, -1, 1, ...</td>\n",
       "      <td>1</td>\n",
       "      <td>[[1, 0, 0, 1, 1, 0, 1, 1, 0, 0, 1, 1, 0, 0], [...</td>\n",
       "      <td>True</td>\n",
       "      <td>0.096332</td>\n",
       "    </tr>\n",
       "    <tr>\n",
       "      <th>97</th>\n",
       "      <td>14</td>\n",
       "      <td>very_hard</td>\n",
       "      <td>3</td>\n",
       "      <td>[[-1, -1, 1, -1, -1, -1, -1, -1, 0, -1, -1, 0,...</td>\n",
       "      <td>1</td>\n",
       "      <td>[[1, 0, 1, 0, 1, 0, 0, 1, 0, 1, 1, 0, 1, 0], [...</td>\n",
       "      <td>True</td>\n",
       "      <td>0.096359</td>\n",
       "    </tr>\n",
       "    <tr>\n",
       "      <th>98</th>\n",
       "      <td>14</td>\n",
       "      <td>very_hard</td>\n",
       "      <td>4</td>\n",
       "      <td>[[-1, -1, -1, -1, -1, -1, -1, -1, 1, 1, -1, 0,...</td>\n",
       "      <td>1</td>\n",
       "      <td>[[1, 0, 1, 0, 1, 0, 1, 0, 1, 1, 0, 0, 1, 0], [...</td>\n",
       "      <td>True</td>\n",
       "      <td>0.080473</td>\n",
       "    </tr>\n",
       "    <tr>\n",
       "      <th>99</th>\n",
       "      <td>14</td>\n",
       "      <td>very_hard</td>\n",
       "      <td>5</td>\n",
       "      <td>[[-1, -1, 1, -1, 1, -1, -1, -1, -1, -1, -1, -1...</td>\n",
       "      <td>1</td>\n",
       "      <td>[[0, 1, 1, 0, 1, 0, 1, 0, 0, 1, 1, 0, 1, 0], [...</td>\n",
       "      <td>True</td>\n",
       "      <td>0.113376</td>\n",
       "    </tr>\n",
       "  </tbody>\n",
       "</table>\n",
       "<p>100 rows × 8 columns</p>\n",
       "</div>"
      ],
      "text/plain": [
       "    size difficulty  idx                                             puzzle  \\\n",
       "0      6       easy    1  [[1, -1, -1, 0, -1, -1], [-1, -1, 0, 0, -1, 1]...   \n",
       "1      6       easy    2  [[-1, -1, 0, -1, -1, 1], [1, -1, 0, 0, -1, -1]...   \n",
       "2      6       easy    3  [[-1, 0, -1, -1, -1, -1], [1, -1, -1, 0, 0, -1...   \n",
       "3      6       easy    4  [[1, -1, 1, 1, -1, 0], [-1, 0, -1, -1, -1, -1]...   \n",
       "4      6       easy    5  [[0, 0, -1, -1, 1, 1], [0, -1, -1, -1, -1, 1],...   \n",
       "..   ...        ...  ...                                                ...   \n",
       "95    14  very_hard    1  [[-1, -1, -1, -1, 1, 0, -1, -1, -1, -1, -1, -1...   \n",
       "96    14  very_hard    2  [[-1, 0, -1, 1, -1, -1, 1, -1, -1, -1, -1, 1, ...   \n",
       "97    14  very_hard    3  [[-1, -1, 1, -1, -1, -1, -1, -1, 0, -1, -1, 0,...   \n",
       "98    14  very_hard    4  [[-1, -1, -1, -1, -1, -1, -1, -1, 1, 1, -1, 0,...   \n",
       "99    14  very_hard    5  [[-1, -1, 1, -1, 1, -1, -1, -1, -1, -1, -1, -1...   \n",
       "\n",
       "    solution_counts                                           solution  \\\n",
       "0                 1  [[1, 0, 1, 0, 1, 0], [0, 1, 0, 0, 1, 1], [1, 0...   \n",
       "1                 1  [[1, 0, 0, 1, 0, 1], [1, 1, 0, 0, 1, 0], [0, 1...   \n",
       "2                 1  [[1, 0, 0, 1, 1, 0], [1, 0, 1, 0, 0, 1], [0, 1...   \n",
       "3                 1  [[1, 0, 1, 1, 0, 0], [0, 0, 1, 1, 0, 1], [1, 1...   \n",
       "4                 1  [[0, 0, 1, 0, 1, 1], [0, 1, 0, 1, 0, 1], [1, 0...   \n",
       "..              ...                                                ...   \n",
       "95                1  [[0, 1, 0, 1, 1, 0, 1, 0, 1, 0, 1, 0, 0, 1], [...   \n",
       "96                1  [[1, 0, 0, 1, 1, 0, 1, 1, 0, 0, 1, 1, 0, 0], [...   \n",
       "97                1  [[1, 0, 1, 0, 1, 0, 0, 1, 0, 1, 1, 0, 1, 0], [...   \n",
       "98                1  [[1, 0, 1, 0, 1, 0, 1, 0, 1, 1, 0, 0, 1, 0], [...   \n",
       "99                1  [[0, 1, 1, 0, 1, 0, 1, 0, 0, 1, 1, 0, 1, 0], [...   \n",
       "\n",
       "    solution_validity  run_time  \n",
       "0                True  0.040002  \n",
       "1                True  0.049248  \n",
       "2                True  0.049257  \n",
       "3                True  0.041666  \n",
       "4                True  0.050843  \n",
       "..                ...       ...  \n",
       "95               True  0.093373  \n",
       "96               True  0.096332  \n",
       "97               True  0.096359  \n",
       "98               True  0.080473  \n",
       "99               True  0.113376  \n",
       "\n",
       "[100 rows x 8 columns]"
      ]
     },
     "execution_count": 10,
     "metadata": {},
     "output_type": "execute_result"
    }
   ],
   "source": [
    "df"
   ]
  },
  {
   "cell_type": "code",
   "execution_count": 11,
   "metadata": {},
   "outputs": [
    {
     "data": {
      "text/plain": [
       "solution_counts\n",
       "1    100\n",
       "Name: count, dtype: int64"
      ]
     },
     "execution_count": 11,
     "metadata": {},
     "output_type": "execute_result"
    }
   ],
   "source": [
    "df.value_counts('solution_counts')"
   ]
  },
  {
   "cell_type": "code",
   "execution_count": 13,
   "metadata": {},
   "outputs": [
    {
     "name": "stdout",
     "output_type": "stream",
     "text": [
      "┌───┬───┬───┬───┬───┬───┐\n",
      "│ 1 │   │   │ 0 │   │   │\n",
      "├───┼───┼───┼───┼───┼───┤\n",
      "│   │   │ 0 │ 0 │   │ 1 │\n",
      "├───┼───┼───┼───┼───┼───┤\n",
      "│   │ 0 │ 0 │   │   │ 1 │\n",
      "├───┼───┼───┼───┼───┼───┤\n",
      "│   │   │   │   │   │   │\n",
      "├───┼───┼───┼───┼───┼───┤\n",
      "│ 0 │ 0 │   │ 1 │   │   │\n",
      "├───┼───┼───┼───┼───┼───┤\n",
      "│   │ 1 │   │   │ 0 │ 0 │\n",
      "└───┴───┴───┴───┴───┴───┘\n",
      "\n"
     ]
    }
   ],
   "source": [
    "print(BinaryPuzzle(df.iloc[0].puzzle))"
   ]
  },
  {
   "cell_type": "code",
   "execution_count": 14,
   "metadata": {},
   "outputs": [
    {
     "name": "stdout",
     "output_type": "stream",
     "text": [
      "┌───┬───┬───┬───┬───┬───┐\n",
      "│ 1 │ 0 │ 1 │ 0 │ 1 │ 0 │\n",
      "├───┼───┼───┼───┼───┼───┤\n",
      "│ 0 │ 1 │ 0 │ 0 │ 1 │ 1 │\n",
      "├───┼───┼───┼───┼───┼───┤\n",
      "│ 1 │ 0 │ 0 │ 1 │ 0 │ 1 │\n",
      "├───┼───┼───┼───┼───┼───┤\n",
      "│ 0 │ 1 │ 1 │ 0 │ 1 │ 0 │\n",
      "├───┼───┼───┼───┼───┼───┤\n",
      "│ 0 │ 0 │ 1 │ 1 │ 0 │ 1 │\n",
      "├───┼───┼───┼───┼───┼───┤\n",
      "│ 1 │ 1 │ 0 │ 1 │ 0 │ 0 │\n",
      "└───┴───┴───┴───┴───┴───┘\n",
      "\n"
     ]
    }
   ],
   "source": [
    "print(BinaryPuzzle(df.iloc[0].solution))"
   ]
  },
  {
   "cell_type": "code",
   "execution_count": 17,
   "metadata": {},
   "outputs": [
    {
     "data": {
      "text/plain": [
       "<Axes: title={'center': 'run_time'}, xlabel='size'>"
      ]
     },
     "execution_count": 17,
     "metadata": {},
     "output_type": "execute_result"
    },
    {
     "data": {
      "image/png": "[encoded data removed]",
      "text/plain": [
       "<Figure size 640x480 with 1 Axes>"
      ]
     },
     "metadata": {},
     "output_type": "display_data"
    }
   ],
   "source": [
    "df.boxplot('run_time', by='size')"
   ]
  },
  {
   "cell_type": "code",
   "execution_count": 18,
   "metadata": {},
   "outputs": [
    {
     "data": {
      "text/plain": [
       "<Axes: title={'center': 'run_time'}, xlabel='size'>"
      ]
     },
     "execution_count": 18,
     "metadata": {},
     "output_type": "execute_result"
    },
    {
     "data": {
      "image/png": "[encoded data removed]",
      "text/plain": [
       "<Figure size 640x480 with 1 Axes>"
      ]
     },
     "metadata": {},
     "output_type": "display_data"
    }
   ],
   "source": [
    "df.boxplot('run_time', by='size', showfliers=False)"
   ]
  },
  {
   "cell_type": "code",
   "execution_count": null,
   "metadata": {},
   "outputs": [],
   "source": []
  }
 ],
 "metadata": {
  "kernelspec": {
   "display_name": "Python 3",
   "language": "python",
   "name": "python3"
  },
  "language_info": {
   "codemirror_mode": {
    "name": "ipython",
    "version": 3
   },
   "file_extension": ".py",
   "mimetype": "text/x-python",
   "name": "python",
   "nbconvert_exporter": "python",
   "pygments_lexer": "ipython3",
   "version": "3.11.8"
  }
 },
 "nbformat": 4,
 "nbformat_minor": 2
}
